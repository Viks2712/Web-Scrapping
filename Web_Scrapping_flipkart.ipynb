{
  "nbformat": 4,
  "nbformat_minor": 0,
  "metadata": {
    "colab": {
      "provenance": [],
      "gpuType": "T4",
      "authorship_tag": "ABX9TyM7h1Bd2O6s44RcnMq1dGNq",
      "include_colab_link": true
    },
    "kernelspec": {
      "name": "python3",
      "display_name": "Python 3"
    },
    "language_info": {
      "name": "python"
    },
    "accelerator": "GPU"
  },
  "cells": [
    {
      "cell_type": "markdown",
      "metadata": {
        "id": "view-in-github",
        "colab_type": "text"
      },
      "source": [
        "<a href=\"https://colab.research.google.com/github/Viks2712/Web-Scrapping/blob/main/Web_Scrapping_flipkart.ipynb\" target=\"_parent\"><img src=\"https://colab.research.google.com/assets/colab-badge.svg\" alt=\"Open In Colab\"/></a>"
      ]
    },
    {
      "cell_type": "code",
      "source": [
        "#pip install Autoscraper"
      ],
      "metadata": {
        "id": "BfZwgmhPrb05"
      },
      "execution_count": 1,
      "outputs": []
    },
    {
      "cell_type": "code",
      "execution_count": 2,
      "metadata": {
        "id": "NLxzh3_vpq4p"
      },
      "outputs": [],
      "source": [
        "from autoscraper import AutoScraper"
      ]
    },
    {
      "cell_type": "code",
      "source": [
        "flipkart_url = \"https://www.flipkart.com/search?q=nokia\"\n",
        "wanted_list = [\"₹1,599\",\"Nokia 105 TA-1473 SS\",\"25,445\"]"
      ],
      "metadata": {
        "id": "slmZ4lf4rzCR"
      },
      "execution_count": 17,
      "outputs": []
    },
    {
      "cell_type": "code",
      "source": [
        "scraper = AutoScraper()\n",
        "result = scraper.build(flipkart_url,wanted_list)"
      ],
      "metadata": {
        "id": "ZWLLS7ykrzGU"
      },
      "execution_count": 18,
      "outputs": []
    },
    {
      "cell_type": "code",
      "source": [
        "print(result)"
      ],
      "metadata": {
        "colab": {
          "base_uri": "https://localhost:8080/"
        },
        "id": "vmrxZPaZrzK3",
        "outputId": "341caa76-af8c-4f9e-8fee-6b6a391c0c60"
      },
      "execution_count": 19,
      "outputs": [
        {
          "output_type": "stream",
          "name": "stdout",
          "text": [
            "['₹1,599', '₹2,999', '₹1,499', '₹2,599', '₹1,699', '₹2,847', '₹41,999', '₹3,499', '₹799', '₹20,999', '₹1,899', '₹2,099', '₹69,999', '₹19,999', '₹5,299', '₹627', '₹483', '₹29,000', '₹59,999', '₹2,799', '₹54,999', '₹399', '₹1,449₹1,5999% off', '₹2,615₹2,99912% off', '₹1,445₹1,4993% off', '₹2,225₹2,59914% off', '₹1,545₹1,6999% off', '₹2,725₹2,8474% off', '₹18,999₹41,99954% off', '₹2,899₹3,49917% off', '₹599₹79925% off', '₹4,249', '₹1,422₹1,69916% off', '₹16,999₹20,99919% off', '₹1,565₹1,89917% off', '₹1,742₹2,09917% off', '₹1,785₹2,09914% off', '₹1,549₹1,89918% off', '₹30,999₹69,99955% off', '₹1,570₹1,5991% off', '₹2,730₹2,9998% off', '₹9,999₹19,99950% off', '₹1,425₹1,4994% off', '₹4,269₹5,29919% off', '₹430₹62731% off', '₹288₹48340% off', '₹17,999₹29,00037% off', '₹30,999₹59,99948% off', '₹2,359₹2,79915% off', '₹27,999₹54,99949% off', '₹1,729₹2,09917% off', '₹1,869₹2,09910% off', '₹310₹39922% off', 'Nokia 105 TA-1459 DS', 'Nokia 105 TA-1473 SS', 'Nokia 150 DS 2020', 'Nokia 105 SS', 'Nokia 105 ss', 'Nokia 125 DS 2020', 'Nokia 105SS PLUS', 'Nokia 105 TA-1416 DS', 'Nokia 150 TA-1235 DS', 'Nokia 109 cm (43 inch) Full HD LED Smart Android TV wit...', 'Nokia 110 4G', 'Nokia WB-101 Blue Wired Headset', 'Nokia 125 TA-1253 DS', 'Nokia 5310 TA-1212 DS', 'Nokia 105 PLUS SS', 'Nokia T21 4 GB RAM 64 GB ROM 10.3 inch with Wi-Fi+4G Ta...', 'Nokia 105DS PLUS', 'Nokia 110 DS', 'Nokia 105 PLUS', 'Nokia TA-1304/105 SS', 'Nokia 127 cm (50 inch) Ultra HD 4K QLED Smart Android T...', 'Nokia TA-1174 / TA-1299', 'Nokia 80 cm (32 inch) HD Ready LED Smart Android TV wit...', 'Nokia 105 SS 2021', 'Nokia 8210 4G', 'Nokia WB-101 Wired Headset', 'Nokia NA 1 A Mobile AC-18N3 Charger', 'Nokia 102 cm (40 inch) Full HD LED Smart Android TV', 'Nokia 105 DS 2020', 'Nokia 127 cm (50 inch) Ultra HD 4K LED Smart Android TV...', 'Nokia 125 DS', 'Nokia 126 cm (50 inch) Ultra HD (4K) LED Smart Android ...', 'Nokia 110 TA-1302 DS', 'Nokia NA 1 A Mobile AC-18N3 Charger with Detachable Cab...', 'Nokia 109 cm (43 inch) Full HD LED Smart Android TV with Sound by JBL and Powered by Harman AudioEFX', 'Nokia T21 4 GB RAM 64 GB ROM 10.3 inch with Wi-Fi+4G Tablet (Grey)', 'Nokia 127 cm (50 inch) Ultra HD 4K QLED Smart Android TV with Sound by JBL and Powered by Harman AudioEFX', 'Nokia 80 cm (32 inch) HD Ready LED Smart Android TV with Sound by Onkyo', 'Nokia 127 cm (50 inch) Ultra HD 4K LED Smart Android TV with Sound by JBL and Powered by Harman AudioEFX', 'Nokia 126 cm (50 inch) Ultra HD (4K) LED Smart Android TV with Sound by Onkyo', 'Nokia NA 1 A Mobile AC-18N3 Charger with Detachable Cable']\n"
          ]
        }
      ]
    },
    {
      "cell_type": "code",
      "source": [
        "scraper.get_result_similar(flipkart_url, grouped=True)"
      ],
      "metadata": {
        "colab": {
          "base_uri": "https://localhost:8080/"
        },
        "id": "JK1gdGaHrzOq",
        "outputId": "2a6390c4-6cd7-46f2-c7f2-2a688f22976e"
      },
      "execution_count": 21,
      "outputs": [
        {
          "output_type": "execute_result",
          "data": {
            "text/plain": [
              "{'rule_3heu': ['₹1,599',\n",
              "  '₹2,999',\n",
              "  '₹1,499',\n",
              "  '₹2,599',\n",
              "  '₹2,847',\n",
              "  '₹1,699',\n",
              "  '₹2,848',\n",
              "  '₹41,999',\n",
              "  '₹5,953',\n",
              "  '₹20,999',\n",
              "  '₹3,499',\n",
              "  '₹2,599',\n",
              "  '₹3,999',\n",
              "  '₹1,899',\n",
              "  '₹799',\n",
              "  '₹1,599',\n",
              "  '₹1,699',\n",
              "  '₹3,599',\n",
              "  '₹2,099',\n",
              "  '₹2,099',\n",
              "  '₹1,899',\n",
              "  '₹19,999',\n",
              "  '₹1,499',\n",
              "  '₹5,299',\n",
              "  '₹1,899',\n",
              "  '₹2,099',\n",
              "  '₹627',\n",
              "  '₹69,999',\n",
              "  '₹29,000',\n",
              "  '₹54,999',\n",
              "  '₹59,999',\n",
              "  '₹1,899',\n",
              "  '₹2,799',\n",
              "  '₹2,099',\n",
              "  '₹483'],\n",
              " 'rule_v6jr': ['₹1,449₹1,5999% off',\n",
              "  '₹1,599',\n",
              "  '₹1,599',\n",
              "  '₹2,615₹2,99912% off',\n",
              "  '₹1,445₹1,4993% off',\n",
              "  '₹2,225₹2,59914% off',\n",
              "  '₹2,725₹2,8474% off',\n",
              "  '₹1,545₹1,6999% off',\n",
              "  '₹2,719₹2,8484% off',\n",
              "  '₹1,599',\n",
              "  '₹18,999₹41,99954% off',\n",
              "  '₹4,899₹5,95317% off',\n",
              "  '₹16,999₹20,99919% off',\n",
              "  '₹2,899₹3,49917% off',\n",
              "  '₹2,225₹2,59914% off',\n",
              "  '₹3,779₹3,9995% off',\n",
              "  '₹1,565₹1,89917% off',\n",
              "  '₹599₹79925% off',\n",
              "  '₹1,570₹1,5991% off',\n",
              "  '₹1,422₹1,69916% off',\n",
              "  '₹3,397₹3,5995% off',\n",
              "  '₹1,742₹2,09917% off',\n",
              "  '₹1,785₹2,09914% off',\n",
              "  '₹1,549₹1,89918% off',\n",
              "  '₹1,499',\n",
              "  '₹9,999₹19,99950% off',\n",
              "  '₹1,425₹1,4994% off',\n",
              "  '₹4,269₹5,29919% off',\n",
              "  '₹1,549₹1,89918% off',\n",
              "  '₹1,729₹2,09917% off',\n",
              "  '₹430₹62731% off',\n",
              "  '₹1,699',\n",
              "  '₹30,999₹69,99955% off',\n",
              "  '₹17,999₹29,00037% off',\n",
              "  '₹27,999₹54,99949% off',\n",
              "  '₹30,999₹59,99948% off',\n",
              "  '₹1,565₹1,89917% off',\n",
              "  '₹2,359₹2,79915% off',\n",
              "  '₹1,869₹2,09910% off',\n",
              "  '₹288₹48340% off'],\n",
              " 'rule_wwsq': ['₹1,449₹1,5999% off',\n",
              "  '₹1,599',\n",
              "  '₹1,599',\n",
              "  '₹2,615₹2,99912% off',\n",
              "  '₹1,445₹1,4993% off',\n",
              "  '₹2,225₹2,59914% off',\n",
              "  '₹2,725₹2,8474% off',\n",
              "  '₹1,545₹1,6999% off',\n",
              "  '₹2,719₹2,8484% off',\n",
              "  '₹1,599',\n",
              "  '₹18,999₹41,99954% off',\n",
              "  '₹4,899₹5,95317% off',\n",
              "  '₹16,999₹20,99919% off',\n",
              "  '₹2,899₹3,49917% off',\n",
              "  '₹2,225₹2,59914% off',\n",
              "  '₹3,779₹3,9995% off',\n",
              "  '₹1,565₹1,89917% off',\n",
              "  '₹599₹79925% off',\n",
              "  '₹1,570₹1,5991% off',\n",
              "  '₹1,422₹1,69916% off',\n",
              "  '₹3,397₹3,5995% off',\n",
              "  '₹1,742₹2,09917% off',\n",
              "  '₹1,785₹2,09914% off',\n",
              "  '₹1,549₹1,89918% off',\n",
              "  '₹1,499',\n",
              "  '₹9,999₹19,99950% off',\n",
              "  '₹1,425₹1,4994% off',\n",
              "  '₹4,269₹5,29919% off',\n",
              "  '₹1,549₹1,89918% off',\n",
              "  '₹1,729₹2,09917% off',\n",
              "  '₹430₹62731% off',\n",
              "  '₹1,699',\n",
              "  '₹30,999₹69,99955% off',\n",
              "  '₹17,999₹29,00037% off',\n",
              "  '₹27,999₹54,99949% off',\n",
              "  '₹30,999₹59,99948% off',\n",
              "  '₹1,565₹1,89917% off',\n",
              "  '₹2,359₹2,79915% off',\n",
              "  '₹1,869₹2,09910% off',\n",
              "  '₹288₹48340% off'],\n",
              " 'rule_d3bh': ['₹1,449₹1,5999% off',\n",
              "  '₹1,599',\n",
              "  '₹1,599',\n",
              "  '₹2,615₹2,99912% off',\n",
              "  '₹1,445₹1,4993% off',\n",
              "  '₹2,225₹2,59914% off',\n",
              "  '₹2,725₹2,8474% off',\n",
              "  '₹1,545₹1,6999% off',\n",
              "  '₹2,719₹2,8484% off',\n",
              "  '₹1,599',\n",
              "  '₹18,999₹41,99954% off',\n",
              "  '₹4,899₹5,95317% off',\n",
              "  '₹16,999₹20,99919% off',\n",
              "  '₹2,899₹3,49917% off',\n",
              "  '₹2,225₹2,59914% off',\n",
              "  '₹3,779₹3,9995% off',\n",
              "  '₹1,565₹1,89917% off',\n",
              "  '₹599₹79925% off',\n",
              "  '₹1,570₹1,5991% off',\n",
              "  '₹1,422₹1,69916% off',\n",
              "  '₹3,397₹3,5995% off',\n",
              "  '₹1,742₹2,09917% off',\n",
              "  '₹1,785₹2,09914% off',\n",
              "  '₹1,549₹1,89918% off',\n",
              "  '₹1,499',\n",
              "  '₹9,999₹19,99950% off',\n",
              "  '₹1,425₹1,4994% off',\n",
              "  '₹4,269₹5,29919% off',\n",
              "  '₹1,549₹1,89918% off',\n",
              "  '₹1,729₹2,09917% off',\n",
              "  '₹430₹62731% off',\n",
              "  '₹1,699',\n",
              "  '₹30,999₹69,99955% off',\n",
              "  '₹17,999₹29,00037% off',\n",
              "  '₹27,999₹54,99949% off',\n",
              "  '₹30,999₹59,99948% off',\n",
              "  '₹1,565₹1,89917% off',\n",
              "  '₹2,359₹2,79915% off',\n",
              "  '₹1,869₹2,09910% off',\n",
              "  '₹288₹48340% off'],\n",
              " 'rule_e5mh': ['₹1,599',\n",
              "  '₹2,999',\n",
              "  '₹1,499',\n",
              "  '₹2,599',\n",
              "  '₹2,847',\n",
              "  '₹1,699',\n",
              "  '₹2,848',\n",
              "  '₹41,999',\n",
              "  '₹5,953',\n",
              "  '₹20,999',\n",
              "  '₹3,499',\n",
              "  '₹2,599',\n",
              "  '₹3,999',\n",
              "  '₹1,899',\n",
              "  '₹799',\n",
              "  '₹1,599',\n",
              "  '₹1,699',\n",
              "  '₹3,599',\n",
              "  '₹2,099',\n",
              "  '₹2,099',\n",
              "  '₹1,899',\n",
              "  '₹19,999',\n",
              "  '₹1,499',\n",
              "  '₹5,299',\n",
              "  '₹1,899',\n",
              "  '₹2,099',\n",
              "  '₹627',\n",
              "  '₹69,999',\n",
              "  '₹29,000',\n",
              "  '₹54,999',\n",
              "  '₹59,999',\n",
              "  '₹1,899',\n",
              "  '₹2,799',\n",
              "  '₹2,099',\n",
              "  '₹483'],\n",
              " 'rule_20ps': ['Nokia 105 TA-1459 DS',\n",
              "  'Nokia 105 TA-1473 SS',\n",
              "  'Nokia 105 SS',\n",
              "  'Nokia 150 DS 2020',\n",
              "  'Nokia 105 ss',\n",
              "  'Nokia 125 DS 2020',\n",
              "  'Nokia 150 TA-1235 DS',\n",
              "  'Nokia 105SS PLUS',\n",
              "  'Nokia 150 DS 2020',\n",
              "  'Nokia 105 TA-1416 DS',\n",
              "  'Nokia 109 cm (43 inch) Full HD LED Smart Android TV wit...',\n",
              "  'Nokia 2660 DS 4G Flip',\n",
              "  'Nokia T21 4 GB RAM 64 GB ROM 10.3 inch with Wi-Fi+4G Ta...',\n",
              "  'Nokia 110 4G',\n",
              "  'Nokia 125 TA-1253 DS',\n",
              "  'Nokia 5310 TA-1212 DS',\n",
              "  'Nokia 105DS PLUS',\n",
              "  'Nokia WB-101 Blue Wired Headset',\n",
              "  'Nokia TA-1174 / TA-1299',\n",
              "  'Nokia 105 PLUS SS',\n",
              "  'Nokia 215 4G DS 2020',\n",
              "  'Nokia 110 DS',\n",
              "  'Nokia 110 DS',\n",
              "  'Nokia 105 PLUS',\n",
              "  'Nokia TA-1304/105 SS',\n",
              "  'Nokia 80 cm (32 inch) HD Ready LED Smart Android TV wit...',\n",
              "  'Nokia 105 SS 2021',\n",
              "  'Nokia 8210 4G',\n",
              "  'Nokia 105 PLUS',\n",
              "  'Nokia 110 TA-1302 DS',\n",
              "  'Nokia WB-101 Wired Headset',\n",
              "  'Nokia 105 DS 2020',\n",
              "  'Nokia 127 cm (50 inch) Ultra HD 4K QLED Smart Android T...',\n",
              "  'Nokia 102 cm (40 inch) Full HD LED Smart Android TV',\n",
              "  'Nokia 126 cm (50 inch) Ultra HD (4K) LED Smart Android ...',\n",
              "  'Nokia 127 cm (50 inch) Ultra HD 4K LED Smart Android TV...',\n",
              "  'Nokia 105DS PLUS',\n",
              "  'Nokia 125 DS',\n",
              "  'Nokia 110 TA-1302 DS',\n",
              "  'Nokia NA 1 A Mobile AC-18N3 Charger'],\n",
              " 'rule_pgih': ['Nokia 105 TA-1459 DS',\n",
              "  'Nokia 105 TA-1473 SS',\n",
              "  'Nokia 105 SS',\n",
              "  'Nokia 150 DS 2020',\n",
              "  'Nokia 105 ss',\n",
              "  'Nokia 125 DS 2020',\n",
              "  'Nokia 150 TA-1235 DS',\n",
              "  'Nokia 105SS PLUS',\n",
              "  'Nokia 150 DS 2020',\n",
              "  'Nokia 105 TA-1416 DS',\n",
              "  'Nokia 109 cm (43 inch) Full HD LED Smart Android TV with Sound by JBL and Powered by Harman AudioEFX',\n",
              "  'Nokia 2660 DS 4G Flip',\n",
              "  'Nokia T21 4 GB RAM 64 GB ROM 10.3 inch with Wi-Fi+4G Tablet (Grey)',\n",
              "  'Nokia 110 4G',\n",
              "  'Nokia 125 TA-1253 DS',\n",
              "  'Nokia 5310 TA-1212 DS',\n",
              "  'Nokia 105DS PLUS',\n",
              "  'Nokia WB-101 Blue Wired Headset',\n",
              "  'Nokia TA-1174 / TA-1299',\n",
              "  'Nokia 105 PLUS SS',\n",
              "  'Nokia 215 4G DS 2020',\n",
              "  'Nokia 110 DS',\n",
              "  'Nokia 110 DS',\n",
              "  'Nokia 105 PLUS',\n",
              "  'Nokia TA-1304/105 SS',\n",
              "  'Nokia 80 cm (32 inch) HD Ready LED Smart Android TV with Sound by Onkyo',\n",
              "  'Nokia 105 SS 2021',\n",
              "  'Nokia 8210 4G',\n",
              "  'Nokia 105 PLUS',\n",
              "  'Nokia 110 TA-1302 DS',\n",
              "  'Nokia WB-101 Wired Headset',\n",
              "  'Nokia 105 DS 2020',\n",
              "  'Nokia 127 cm (50 inch) Ultra HD 4K QLED Smart Android TV with Sound by JBL and Powered by Harman AudioEFX',\n",
              "  'Nokia 102 cm (40 inch) Full HD LED Smart Android TV',\n",
              "  'Nokia 126 cm (50 inch) Ultra HD (4K) LED Smart Android TV with Sound by Onkyo',\n",
              "  'Nokia 127 cm (50 inch) Ultra HD 4K LED Smart Android TV with Sound by JBL and Powered by Harman AudioEFX',\n",
              "  'Nokia 105DS PLUS',\n",
              "  'Nokia 125 DS',\n",
              "  'Nokia 110 TA-1302 DS',\n",
              "  'Nokia NA 1 A Mobile AC-18N3 Charger']}"
            ]
          },
          "metadata": {},
          "execution_count": 21
        }
      ]
    },
    {
      "cell_type": "code",
      "source": [
        "scraper.set_rule_aliases({ \"rule_20ps\":\"Title\",\"rule_3heu\":\"Price\"})\n",
        "scraper.keep_rules([\"rule_20ps\",\"rule_3heu\"])\n",
        "scraper.save(\"flipkart-search\")"
      ],
      "metadata": {
        "id": "Fn9atPZerzST"
      },
      "execution_count": 28,
      "outputs": []
    },
    {
      "cell_type": "code",
      "source": [
        "results = scraper.get_result_similar(\"https://www.flipkart.com/search?q=mi\",group_by_alias=True)"
      ],
      "metadata": {
        "id": "ezkaCOIrrzYF"
      },
      "execution_count": 32,
      "outputs": []
    },
    {
      "cell_type": "code",
      "source": [
        "results[\"Title\"]"
      ],
      "metadata": {
        "colab": {
          "base_uri": "https://localhost:8080/"
        },
        "id": "B7sqN0cZrzbh",
        "outputId": "7da5214f-1819-4c71-8c98-b0047e508170"
      },
      "execution_count": 33,
      "outputs": [
        {
          "output_type": "execute_result",
          "data": {
            "text/plain": [
              "['Mi Smart Air Purifier 4 Lite Room Air Purifier',\n",
              " 'REDMI 10 Power (Sporty Orange, 128 GB)',\n",
              " 'Redmi 9A Sport (Metallic Blue, 32 GB)',\n",
              " 'Mi 11 Lite (Jazz Blue, 128 GB)',\n",
              " 'Mi 11 Lite (Vinyl Black, 128 GB)',\n",
              " 'Redmi 10 Prime (Astral White, 64 GB)',\n",
              " 'Xiaomi 11i Hypercharge 5G (Stealth Black, 128 GB)',\n",
              " 'Redmi 9A Sport (Coral Green, 32 GB)',\n",
              " 'Redmi 9A Sport (Carbon Black, 32 GB)',\n",
              " 'Redmi Note 11S (Space Black, 128 GB)',\n",
              " 'Xiaomi 12 Pro 5G (Couture Blue, 256 GB)',\n",
              " 'Redmi 10 Prime (Bifrost Blue, 64 GB)',\n",
              " 'Mi A3 (Not just Blue, 128 GB)',\n",
              " 'Redmi 10 Prime (Phantom Black, 64 GB)',\n",
              " 'REDMI Note 10 lite (Glacier White, 64 GB)',\n",
              " 'Redmi 9A (SeaBlue, 32 GB)',\n",
              " 'Mi 10T (Cosmic Black, 128 GB)',\n",
              " 'Mi 11 Lite (Vinyl Black, 128 GB)',\n",
              " 'Xiaomi 11Lite NE (Diamond Dazzle, 128 GB)',\n",
              " 'Xiaomi 11Lite NE (Vinyl Black, 128 GB)',\n",
              " 'Xiaomi 11Lite NE (Vinyl Black, 128 GB)',\n",
              " 'REDMI Note 11 Pro (Phantom White, 128 GB)',\n",
              " 'Redmi 6 (Black, 32 GB)',\n",
              " 'Mi 11X Pro 5G (Celestial Silver, 128 GB)',\n",
              " 'REDMI 10A (CHARCOAL BLACK, 128 GB)',\n",
              " 'Mi 11X (Lunar White, 128 GB)',\n",
              " 'Mi 11X (Celestial Silver, 128 GB)',\n",
              " 'Xiaomi 11T Pro 5G Hyperphone (Meteorite Black, 128 GB)',\n",
              " 'Redmi Note 6 Pro (Black, 64 GB)',\n",
              " 'Redmi Note 5 (Gold, 64 GB)',\n",
              " 'Mi 11X (Cosmic Black, 128 GB)',\n",
              " 'Xiaomi 12 Pro 5G (Opera Mauve, 256 GB)',\n",
              " 'Xiaomi 11i Hypercharge 5G (Purple Mist, 128 GB)',\n",
              " 'Redmi Y2 (Dark Grey, 64 GB)',\n",
              " 'REDMI Note 11T 5G (Matte black, 64 GB)',\n",
              " 'REDMI Note 11T 5G (Stardust White, 128 GB)',\n",
              " 'Mi 11X (Lunar White, 128 GB)',\n",
              " 'Redmi 9A Sport (Coral Green, 32 GB)',\n",
              " 'Mi 11X (Celestial Silver, 128 GB)',\n",
              " 'Mi 11X Pro 5G (Lunar White, 128 GB)']"
            ]
          },
          "metadata": {},
          "execution_count": 33
        }
      ]
    },
    {
      "cell_type": "code",
      "source": [
        "results[\"Price\"]"
      ],
      "metadata": {
        "colab": {
          "base_uri": "https://localhost:8080/"
        },
        "id": "u4AxJh10rzfy",
        "outputId": "a6d367c8-593e-4189-bab8-1e8c22794bd1"
      },
      "execution_count": 34,
      "outputs": [
        {
          "output_type": "execute_result",
          "data": {
            "text/plain": [
              "['₹14,999',\n",
              " '₹18,999',\n",
              " '₹8,499',\n",
              " '₹25,999',\n",
              " '₹25,999',\n",
              " '₹13,999',\n",
              " '₹31,999',\n",
              " '₹8,499',\n",
              " '₹8,499',\n",
              " '₹21,999',\n",
              " '₹84,999',\n",
              " '₹13,999',\n",
              " '₹19,999',\n",
              " '₹13,999',\n",
              " '₹16,999',\n",
              " '₹39,999',\n",
              " '₹24,999',\n",
              " '₹33,999',\n",
              " '₹30,999',\n",
              " '₹33,999',\n",
              " '₹22,999',\n",
              " '₹44,999',\n",
              " '₹13,999',\n",
              " '₹33,999',\n",
              " '₹34,999',\n",
              " '₹40,999',\n",
              " '₹31,988',\n",
              " '₹84,999',\n",
              " '₹31,999',\n",
              " '₹18,999',\n",
              " '₹22,999',\n",
              " '₹34,999',\n",
              " '₹33,999',\n",
              " '₹39,999']"
            ]
          },
          "metadata": {},
          "execution_count": 34
        }
      ]
    },
    {
      "cell_type": "code",
      "source": [],
      "metadata": {
        "id": "nGY9nq4Yrzio"
      },
      "execution_count": null,
      "outputs": []
    },
    {
      "cell_type": "code",
      "source": [],
      "metadata": {
        "id": "45fmV8uirzks"
      },
      "execution_count": null,
      "outputs": []
    }
  ]
}